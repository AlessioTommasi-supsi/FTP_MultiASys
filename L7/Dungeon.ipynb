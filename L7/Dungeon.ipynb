{
 "cells": [
  {
   "cell_type": "code",
   "execution_count": null,
   "id": "7e0f0e96",
   "metadata": {},
   "outputs": [],
   "source": [
    "import random\n",
    "\n",
    "FORWARD = 0\n",
    "BACKWARD = 1\n",
    "\n",
    "class DungeonSimulator:\n",
    "    def __init__(self, length=5, slip=0.1, small=2, large=10):\n",
    "        self.length = length # Length of the dungeon\n",
    "        self.slip = slip  # probability of 'slipping' an action OVVERO: il nostro agente prova a fare una azione ma e sfortunato e non va a buon fine e si ritrova dunque ad aver fatto l azione opposta a quella che voleva fare!\n",
    "        self.small = small  # payout for BACKWARD action\n",
    "        self.large = large  # payout at end of chain for FORWARD action\n",
    "        self.state = 0  # Start at beginning of the dungeon\n",
    "\n",
    "    def take_action(self, action):\n",
    "        if random.random() < self.slip:\n",
    "            # agent slipped, reverse action taken\n",
    "            action = not action\n",
    "        if action == BACKWARD:\n",
    "            # BACKWARD: go back to the beginning, get small reward\n",
    "            reward = self.small\n",
    "            self.state = 0\n",
    "        elif action == FORWARD:\n",
    "            # FORWARD: go up along the dungeon\n",
    "            if self.state < self.length - 1:\n",
    "                self.state += 1\n",
    "                reward = 0\n",
    "            else:\n",
    "                reward = self.large\n",
    "        return self.state, reward\n",
    "\n",
    "    def reset(self):\n",
    "        # Reset state to zero, the beginning of the dungeon\n",
    "        self.state = 0\n",
    "        return self.state"
   ]
  },
  {
   "cell_type": "code",
   "execution_count": null,
   "id": "9062db74",
   "metadata": {},
   "outputs": [],
   "source": [
    "class DrunkAgent:\n",
    "    def __init__(self):\n",
    "        self.q_table = None\n",
    "\n",
    "    def get_next_action(self, state):\n",
    "        # Random walk 50% di probabilita di andare avanti e 50% di probabilita di andare indietro\n",
    "        return FORWARD if random.random() < 0.5 else BACKWARD\n",
    "\n",
    "    def update(self, old_state, new_state, action, reward):\n",
    "        pass # I don't care! I'm drunk!!"
   ]
  },
  {
   "cell_type": "code",
   "execution_count": null,
   "id": "025a46c4",
   "metadata": {},
   "outputs": [],
   "source": [
    "class Accountant:\n",
    "    def __init__(self):\n",
    "        # Q-table for rewards accounting\n",
    "        # Rows are actions, columns are states\n",
    "        self.q_table = [[0,0,0,0,0], [0,0,0,0,0]]\n",
    "\n",
    "    def get_next_action(self, state):\n",
    "        # Is FORWARD reward is bigger?\n",
    "        if self.q_table[FORWARD][state] > self.q_table[BACKWARD][state]:\n",
    "            return FORWARD\n",
    "\n",
    "        # Is BACKWARD reward is bigger?\n",
    "        elif self.q_table[BACKWARD][state] > self.q_table[FORWARD][state]:\n",
    "            return BACKWARD\n",
    "\n",
    "        # Rewards are equal, take random action\n",
    "        return FORWARD if random.random() < 0.5 else BACKWARD\n",
    "\n",
    "    def update(self, old_state, new_state, action, reward):\n",
    "        self.q_table[action][old_state] += reward # "
   ]
  },
  {
   "cell_type": "code",
   "execution_count": null,
   "id": "b40d66f9",
   "metadata": {},
   "outputs": [],
   "source": [
    "class Gambler:\n",
    "    def __init__(self, learning_rate=0.1, discount=0.95, exploration_rate=1.0, iterations=10000):\n",
    "        self.q_table = [[0,0,0,0,0], [0,0,0,0,0]] # Q-table for rewards accounting\n",
    "        self.learning_rate = learning_rate # How much we appreciate new q-value over current = alva = quanto predigiligiamo esplorazione\n",
    "        self.discount = discount # How much we appreciate future reward over current\n",
    "        self.exploration_rate = 1.0 # Initial exploration rate\n",
    "        self.exploration_delta = 1.0 / iterations # Shift from exploration to explotation\n",
    "\n",
    "    #Come il nostro agente seleziona la prossima azione da fare\n",
    "    def get_next_action(self, state):\n",
    "        if random.random() > self.exploration_rate: # Explore ( gamble) or exploit (greedy)\n",
    "            return self.greedy_action(state)\n",
    "        else:\n",
    "            return self.random_action()\n",
    "\n",
    "    def greedy_action(self, state):\n",
    "        # Is FORWARD reward is bigger?\n",
    "        if self.q_table[FORWARD][state] > self.q_table[BACKWARD][state]:\n",
    "            return FORWARD\n",
    "        # Is BACKWARD reward is bigger?\n",
    "        elif self.q_table[BACKWARD][state] > self.q_table[FORWARD][state]:\n",
    "            return BACKWARD\n",
    "        # Rewards are equal, take random action\n",
    "        return FORWARD if random.random() < 0.5 else BACKWARD\n",
    "\n",
    "    def random_action(self):\n",
    "        return FORWARD if random.random() < 0.5 else BACKWARD\n",
    "\n",
    "# E' Q-learning, un algoritmo di reinforcement learning che permette di apprendere una policy ottimale per un agente in un ambiente Markoviano.\n",
    "# Formula: Q(s,a) = Q(s,a) + alpha * (r + gamma * max_a' Q(s',a') - Q(s,a)) \n",
    "# Vedi slide 107 on goodnotes: Link: https://web.goodnotes.com/s/y8B7SKWjqPsGYDCb4cZCgI#page-107 \n",
    "    def update(self, old_state, new_state, action, reward):\n",
    "        # Old Q-table value\n",
    "        old_value = self.q_table[action][old_state]\n",
    "        # What would be our best next action?\n",
    "        future_action = self.greedy_action(new_state)\n",
    "        # What is reward for the best next action?\n",
    "        future_reward = self.q_table[future_action][new_state]\n",
    "\n",
    "        # Main Q-table updating algorithm\n",
    "        new_value = old_value + self.learning_rate * (reward + self.discount * future_reward - old_value)\n",
    "        self.q_table[action][old_state] = new_value\n",
    "\n",
    "        # Finally shift our exploration_rate toward zero (less gambling)\n",
    "        if self.exploration_rate > 0:\n",
    "            self.exploration_rate -= self.exploration_delta # Dopo un po prediligiamo sempre di piu l exploitazione (ovvero andare nei posti che gia conosco e che so essere buoni) alla esplorazione"
   ]
  },
  {
   "cell_type": "code",
   "execution_count": 12,
   "id": "abad94db",
   "metadata": {},
   "outputs": [],
   "source": [
    "# setup simulation\n",
    "dungeon = DungeonSimulator()"
   ]
  },
  {
   "cell_type": "code",
   "execution_count": 13,
   "id": "56a20681",
   "metadata": {},
   "outputs": [
    {
     "name": "stdout",
     "output_type": "stream",
     "text": [
      "{\"step\": 0, \"total_reward\": 2.0}\n",
      "{\"step\": 250, \"total_reward\": 292.0}\n",
      "{\"step\": 500, \"total_reward\": 610.0}\n",
      "{\"step\": 750, \"total_reward\": 940.0}\n",
      "{\"step\": 1000, \"total_reward\": 1230.0}\n",
      "{\"step\": 1250, \"total_reward\": 1546.0}\n",
      "{\"step\": 1500, \"total_reward\": 1906.0}\n",
      "{\"step\": 1750, \"total_reward\": 2310.0}\n",
      "{\"step\": 2000, \"total_reward\": 2596.0}\n",
      "{\"step\": 2250, \"total_reward\": 2936.0}\n",
      "{\"step\": 2500, \"total_reward\": 3314.0}\n",
      "{\"step\": 2750, \"total_reward\": 3624.0}\n",
      "{\"step\": 3000, \"total_reward\": 3940.0}\n",
      "{\"step\": 3250, \"total_reward\": 4262.0}\n",
      "{\"step\": 3500, \"total_reward\": 4614.0}\n",
      "{\"step\": 3750, \"total_reward\": 4964.0}\n",
      "{\"step\": 4000, \"total_reward\": 5258.0}\n",
      "{\"step\": 4250, \"total_reward\": 5536.0}\n",
      "{\"step\": 4500, \"total_reward\": 5850.0}\n",
      "{\"step\": 4750, \"total_reward\": 6156.0}\n",
      "{\"step\": 5000, \"total_reward\": 6512.0}\n",
      "{\"step\": 5250, \"total_reward\": 6822.0}\n",
      "{\"step\": 5500, \"total_reward\": 7140.0}\n",
      "{\"step\": 5750, \"total_reward\": 7492.0}\n",
      "{\"step\": 6000, \"total_reward\": 7798.0}\n",
      "{\"step\": 6250, \"total_reward\": 8186.0}\n",
      "{\"step\": 6500, \"total_reward\": 8466.0}\n",
      "{\"step\": 6750, \"total_reward\": 8840.0}\n",
      "{\"step\": 7000, \"total_reward\": 9196.0}\n",
      "{\"step\": 7250, \"total_reward\": 9600.0}\n",
      "{\"step\": 7500, \"total_reward\": 9980.0}\n",
      "{\"step\": 7750, \"total_reward\": 10300.0}\n",
      "{\"step\": 8000, \"total_reward\": 10638.0}\n",
      "{\"step\": 8250, \"total_reward\": 10938.0}\n",
      "{\"step\": 8500, \"total_reward\": 11324.0}\n",
      "{\"step\": 8750, \"total_reward\": 11628.0}\n",
      "{\"step\": 9000, \"total_reward\": 11962.0}\n",
      "{\"step\": 9250, \"total_reward\": 12230.0}\n",
      "{\"step\": 9500, \"total_reward\": 12580.0}\n",
      "{\"step\": 9750, \"total_reward\": 12848.0}\n",
      "Final Q-table None\n"
     ]
    },
    {
     "data": {
      "text/plain": [
       "[<matplotlib.lines.Line2D at 0x1fd76755f70>]"
      ]
     },
     "execution_count": 13,
     "metadata": {},
     "output_type": "execute_result"
    },
    {
     "data": {
      "image/png": "[encoded data removed]",
      "text/plain": [
       "<Figure size 640x480 with 1 Axes>"
      ]
     },
     "metadata": {},
     "output_type": "display_data"
    }
   ],
   "source": [
    "import json\n",
    "import time\n",
    "import matplotlib.pyplot as plt\n",
    "import numpy as np\n",
    "# main loop\n",
    "iterations = 10000\n",
    "agent = DrunkAgent()\n",
    "dungeon.reset()\n",
    "total_reward = np.zeros(iterations) # Score keeping\n",
    "for step in range(iterations):\n",
    "    old_state = dungeon.state # Store current state\n",
    "    action = agent.get_next_action(old_state) # Query agent for the next action\n",
    "    new_state, reward = dungeon.take_action(action) # Take action, get new state and reward\n",
    "    agent.update(old_state, new_state, action, reward) # Let the agent update internals\n",
    "    if step == 0:\n",
    "        total_reward[step] = reward\n",
    "    else:\n",
    "        total_reward[step] = total_reward[step-1] + reward # Keep score\n",
    "    if step % 250 == 0: # Print out metadata every 100th iteration\n",
    "        print(json.dumps({'step': step, 'total_reward': total_reward[step]}))\n",
    "\n",
    "    time.sleep(0.0001) # Avoid spamming stdout too fast!\n",
    "\n",
    "print(\"Final Q-table\", agent.q_table)\n",
    "plt.plot(total_reward)"
   ]
  },
  {
   "cell_type": "code",
   "execution_count": null,
   "id": "23f919a9",
   "metadata": {},
   "outputs": [],
   "source": []
  },
  {
   "cell_type": "markdown",
   "id": "b451bd5f",
   "metadata": {},
   "source": [
    "Questo Plot e reward del drunk agent dopo aver fa tto 1000 iterazioni!"
   ]
  },
  {
   "cell_type": "code",
   "execution_count": 14,
   "id": "81ff6883",
   "metadata": {},
   "outputs": [
    {
     "name": "stdout",
     "output_type": "stream",
     "text": [
      "{\"step\": 0, \"total_reward\": 2.0}\n",
      "{\"step\": 250, \"total_reward\": 578.0}\n",
      "{\"step\": 500, \"total_reward\": 880.0}\n",
      "{\"step\": 750, \"total_reward\": 1230.0}\n",
      "{\"step\": 1000, \"total_reward\": 1762.0}\n",
      "{\"step\": 1250, \"total_reward\": 2178.0}\n",
      "{\"step\": 1500, \"total_reward\": 2442.0}\n",
      "{\"step\": 1750, \"total_reward\": 2832.0}\n",
      "{\"step\": 2000, \"total_reward\": 3144.0}\n",
      "{\"step\": 2250, \"total_reward\": 3400.0}\n",
      "{\"step\": 2500, \"total_reward\": 3658.0}\n",
      "{\"step\": 2750, \"total_reward\": 3940.0}\n",
      "{\"step\": 3000, \"total_reward\": 4196.0}\n",
      "{\"step\": 3250, \"total_reward\": 4514.0}\n",
      "{\"step\": 3500, \"total_reward\": 4836.0}\n",
      "{\"step\": 3750, \"total_reward\": 5190.0}\n",
      "{\"step\": 4000, \"total_reward\": 5442.0}\n",
      "{\"step\": 4250, \"total_reward\": 5752.0}\n",
      "{\"step\": 4500, \"total_reward\": 5998.0}\n",
      "{\"step\": 4750, \"total_reward\": 6370.0}\n",
      "{\"step\": 5000, \"total_reward\": 6804.0}\n",
      "{\"step\": 5250, \"total_reward\": 7110.0}\n",
      "{\"step\": 5500, \"total_reward\": 7360.0}\n",
      "{\"step\": 5750, \"total_reward\": 7640.0}\n",
      "{\"step\": 6000, \"total_reward\": 7894.0}\n",
      "{\"step\": 6250, \"total_reward\": 8196.0}\n",
      "{\"step\": 6500, \"total_reward\": 8446.0}\n",
      "{\"step\": 6750, \"total_reward\": 9064.0}\n",
      "{\"step\": 7000, \"total_reward\": 9468.0}\n",
      "{\"step\": 7250, \"total_reward\": 9736.0}\n",
      "{\"step\": 7500, \"total_reward\": 10160.0}\n",
      "{\"step\": 7750, \"total_reward\": 10698.0}\n",
      "{\"step\": 8000, \"total_reward\": 11020.0}\n",
      "{\"step\": 8250, \"total_reward\": 11358.0}\n",
      "{\"step\": 8500, \"total_reward\": 11708.0}\n",
      "{\"step\": 8750, \"total_reward\": 12102.0}\n",
      "{\"step\": 9000, \"total_reward\": 12386.0}\n",
      "{\"step\": 9250, \"total_reward\": 12660.0}\n",
      "{\"step\": 9500, \"total_reward\": 12952.0}\n",
      "{\"step\": 9750, \"total_reward\": 13206.0}\n",
      "Final Q-table [[968, 0, 0, 2, 3990], [0, 7744, 752, 0, 0]]\n"
     ]
    },
    {
     "data": {
      "text/plain": [
       "[<matplotlib.lines.Line2D at 0x1fd767dfaa0>]"
      ]
     },
     "execution_count": 14,
     "metadata": {},
     "output_type": "execute_result"
    },
    {
     "data": {
      "image/png": "[encoded data removed]",
      "text/plain": [
       "<Figure size 640x480 with 1 Axes>"
      ]
     },
     "metadata": {},
     "output_type": "display_data"
    }
   ],
   "source": [
    "agent = Accountant()\n",
    "dungeon.reset()\n",
    "total_reward = np.zeros(iterations) # Score keeping\n",
    "for step in range(iterations):\n",
    "    old_state = dungeon.state # Store current state\n",
    "    action = agent.get_next_action(old_state) # Query agent for the next action\n",
    "    new_state, reward = dungeon.take_action(action) # Take action, get new state and reward\n",
    "    agent.update(old_state, new_state, action, reward) # Let the agent update internals\n",
    "    if step == 0:\n",
    "        total_reward[step] = reward\n",
    "    else:\n",
    "        total_reward[step] = total_reward[step-1] + reward # Keep score\n",
    "    if step % 250 == 0: # Print out metadata every 100th iteration\n",
    "        print(json.dumps({'step': step, 'total_reward': total_reward[step]}))\n",
    "\n",
    "    time.sleep(0.0001) # Avoid spamming stdout too fast!\n",
    "\n",
    "print(\"Final Q-table\", agent.q_table)\n",
    "plt.plot(total_reward)"
   ]
  },
  {
   "cell_type": "code",
   "execution_count": 15,
   "id": "d616f90f",
   "metadata": {},
   "outputs": [
    {
     "name": "stdout",
     "output_type": "stream",
     "text": [
      "{\"step\": 0, \"total_reward\": 2.0}\n",
      "{\"step\": 250, \"total_reward\": 386.0}\n",
      "{\"step\": 500, \"total_reward\": 750.0}\n",
      "{\"step\": 750, \"total_reward\": 1068.0}\n",
      "{\"step\": 1000, \"total_reward\": 1390.0}\n",
      "{\"step\": 1250, \"total_reward\": 1754.0}\n",
      "{\"step\": 1500, \"total_reward\": 2058.0}\n",
      "{\"step\": 1750, \"total_reward\": 2428.0}\n",
      "{\"step\": 2000, \"total_reward\": 2770.0}\n",
      "{\"step\": 2250, \"total_reward\": 3116.0}\n",
      "{\"step\": 2500, \"total_reward\": 3526.0}\n",
      "{\"step\": 2750, \"total_reward\": 3906.0}\n",
      "{\"step\": 3000, \"total_reward\": 4310.0}\n",
      "{\"step\": 3250, \"total_reward\": 4696.0}\n",
      "{\"step\": 3500, \"total_reward\": 5146.0}\n",
      "{\"step\": 3750, \"total_reward\": 5638.0}\n",
      "{\"step\": 4000, \"total_reward\": 6208.0}\n",
      "{\"step\": 4250, \"total_reward\": 6600.0}\n",
      "{\"step\": 4500, \"total_reward\": 7050.0}\n",
      "{\"step\": 4750, \"total_reward\": 7552.0}\n",
      "{\"step\": 5000, \"total_reward\": 8170.0}\n",
      "{\"step\": 5250, \"total_reward\": 8988.0}\n",
      "{\"step\": 5500, \"total_reward\": 9606.0}\n",
      "{\"step\": 5750, \"total_reward\": 10330.0}\n",
      "{\"step\": 6000, \"total_reward\": 11012.0}\n",
      "{\"step\": 6250, \"total_reward\": 11596.0}\n",
      "{\"step\": 6500, \"total_reward\": 12650.0}\n",
      "{\"step\": 6750, \"total_reward\": 13410.0}\n",
      "{\"step\": 7000, \"total_reward\": 14008.0}\n",
      "{\"step\": 7250, \"total_reward\": 14698.0}\n",
      "{\"step\": 7500, \"total_reward\": 15578.0}\n",
      "{\"step\": 7750, \"total_reward\": 16506.0}\n",
      "{\"step\": 8000, \"total_reward\": 17584.0}\n",
      "{\"step\": 8250, \"total_reward\": 18812.0}\n",
      "{\"step\": 8500, \"total_reward\": 19734.0}\n",
      "{\"step\": 8750, \"total_reward\": 20994.0}\n",
      "{\"step\": 9000, \"total_reward\": 22242.0}\n",
      "{\"step\": 9250, \"total_reward\": 23370.0}\n",
      "{\"step\": 9500, \"total_reward\": 24584.0}\n",
      "{\"step\": 9750, \"total_reward\": 26078.0}\n",
      "Final Q-table [[95.02844142297845, 101.14540046284148, 107.12191753992948, 112.57899033122362, 119.24168487066021], [91.31605985928893, 92.45353493461057, 91.94346045090941, 97.27579746264698, 92.73636765656609]]\n"
     ]
    },
    {
     "data": {
      "text/plain": [
       "[<matplotlib.lines.Line2D at 0x1fd789aac30>]"
      ]
     },
     "execution_count": 15,
     "metadata": {},
     "output_type": "execute_result"
    },
    {
     "data": {
      "image/png": "[encoded data removed]",
      "text/plain": [
       "<Figure size 640x480 with 1 Axes>"
      ]
     },
     "metadata": {},
     "output_type": "display_data"
    }
   ],
   "source": [
    "agent = Gambler(iterations=iterations)\n",
    "dungeon.reset()\n",
    "total_reward = np.zeros(iterations) # Score keeping\n",
    "for step in range(iterations):\n",
    "    old_state = dungeon.state # Store current state\n",
    "    action = agent.get_next_action(old_state) # Query agent for the next action\n",
    "    new_state, reward = dungeon.take_action(action) # Take action, get new state and reward\n",
    "    agent.update(old_state, new_state, action, reward) # Let the agent update internals\n",
    "    if step == 0:\n",
    "        total_reward[step] = reward\n",
    "    else:\n",
    "        total_reward[step] = total_reward[step-1] + reward # Keep score\n",
    "    if step % 250 == 0: # Print out metadata every 100th iteration\n",
    "        print(json.dumps({'step': step, 'total_reward': total_reward[step]}))\n",
    "    time.sleep(0.0001) # Avoid spamming stdout too fast!\n",
    "\n",
    "print(\"Final Q-table\", agent.q_table)\n",
    "plt.plot(total_reward)"
   ]
  }
 ],
 "metadata": {
  "kernelspec": {
   "display_name": "FTP_MultiASys_python_enviroment",
   "language": "python",
   "name": "python3"
  },
  "language_info": {
   "codemirror_mode": {
    "name": "ipython",
    "version": 3
   },
   "file_extension": ".py",
   "mimetype": "text/x-python",
   "name": "python",
   "nbconvert_exporter": "python",
   "pygments_lexer": "ipython3",
   "version": "3.12.7"
  }
 },
 "nbformat": 4,
 "nbformat_minor": 5
}
